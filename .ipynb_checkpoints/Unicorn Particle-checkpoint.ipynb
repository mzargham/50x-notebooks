{
 "cells": [
  {
   "cell_type": "markdown",
   "metadata": {},
   "source": [
    "# The Unicorn Particle Project"
   ]
  },
  {
   "cell_type": "markdown",
   "metadata": {},
   "source": [
    "Today we are going to think about seed stage investing as science using ideas for physics and data science to work through a thought experiment. \n",
    "\n",
    "Our thought experiment overview:\n",
    "- The elusive 'Unicorn Particle' is known to exist but is extremely rare: we'll say it's base rate is 1/100000.\n",
    "- The value of being the first to discover an instance of the unicorn particle and incubate it with the appropriate equipment is 1000, and the cost of incubating is 10.\n",
    "- The unicorn particle is so valuable because it contains latent potential to create massive amounts of value. While this value is part of its definition it is incredibly difficult to detect directly\n",
    "- To detect the Unicorn particle teams of investment physicists build all manner of detection equipment aimed at capturing signals that indicate an particular particle might actually be a unicorn particle in disguise.\n",
    "- These investment labs could examine every possible particle but rather use sourcing mechanisms to decide which particles to run experiments on. Our scientists happen to have data and know some machine learning and it helps them start with a smaller pool of particles to inspect with a better base rate of 1/100.\n",
    "- Unfortunately, even with this better base rate we only have bandwidth to incubate 25 particles in hopes of unleashing massive value and proving our chosen particle was a unicorn particle. \n",
    "- So our scientists put their instruments to work studying these 500 curated particles to determine which will be the 25 to incubate. This experiment builds out the relationship between the prediction 'lift' for identifying these rare events, translates in to ROI for our investment scientists."
   ]
  },
  {
   "cell_type": "markdown",
   "metadata": {},
   "source": [
    "pardon me while I import some mathemagic.\n",
    "![title](https://imgs.xkcd.com/comics/python.png)\n",
    "image credit Randall Monroe, XKCD\n",
    "https://xkcd.com/353/"
   ]
  },
  {
   "cell_type": "code",
   "execution_count": 1,
   "metadata": {},
   "outputs": [],
   "source": [
    "import pandas as pd\n",
    "import numpy as np\n",
    "import scipy.stats as sps\n",
    "import seaborn as sns\n",
    "import matplotlib.pyplot as plt\n",
    "\n",
    "%matplotlib inline"
   ]
  },
  {
   "cell_type": "markdown",
   "metadata": {},
   "source": [
    "## Step 1: Base Rates, Costs and Values"
   ]
  },
  {
   "cell_type": "code",
   "execution_count": 2,
   "metadata": {},
   "outputs": [],
   "source": [
    "incubation_cost = 10\n",
    "unicorn_value = incubation_cost*10**3 #(1 Thousand times the incubation cost)\n",
    "base_rate = 10**(-5) #(1 in 100 Thousand)\n",
    "incubation_limit = 25"
   ]
  },
  {
   "cell_type": "markdown",
   "metadata": {},
   "source": [
    "That was simple enough, but lets see what happens if our scientists randomly select which particles to incubate. We'll run the experiment 1 million times and look out how our team could fair."
   ]
  },
  {
   "cell_type": "code",
   "execution_count": 3,
   "metadata": {},
   "outputs": [],
   "source": [
    "N = 1000000 #experiments\n",
    "K = 25 #particles incubated\n",
    "\n",
    "#Python purists beware:\n",
    "#I'm using loops here for expository purposes\n",
    "unicorns_found_randomly = np.zeros((N,))\n",
    "for n in range(N):\n",
    "    is_unicorn = np.zeros((K,)) #initialized as zero but changed to 1 based on outcome\n",
    "    for i in range(K):\n",
    "        #checkout come based on coin random outcome accordint to base rate\n",
    "        is_unicorn[i] = int(np.random.random()<base_rate)\n",
    "    \n",
    "    unicorns_found_randomly[n] = sum(is_unicorn)"
   ]
  },
  {
   "cell_type": "code",
   "execution_count": 4,
   "metadata": {},
   "outputs": [],
   "source": [
    "#organize the data\n",
    "random_df = pd.DataFrame()\n",
    "random_df['unicorns_found_randomly']=unicorns_found_randomly\n",
    "random_df['incubation_costs'] = incubation_cost*K\n",
    "random_df['unicorn_returns'] = unicorns_found_randomly*unicorn_value\n",
    "random_df['return_multiplier'] = (random_df.unicorn_returns-random_df.incubation_costs )/(random_df.incubation_costs)"
   ]
  },
  {
   "cell_type": "code",
   "execution_count": 5,
   "metadata": {},
   "outputs": [
    {
     "data": {
      "text/html": [
       "<div>\n",
       "<style scoped>\n",
       "    .dataframe tbody tr th:only-of-type {\n",
       "        vertical-align: middle;\n",
       "    }\n",
       "\n",
       "    .dataframe tbody tr th {\n",
       "        vertical-align: top;\n",
       "    }\n",
       "\n",
       "    .dataframe thead th {\n",
       "        text-align: right;\n",
       "    }\n",
       "</style>\n",
       "<table border=\"1\" class=\"dataframe\">\n",
       "  <thead>\n",
       "    <tr style=\"text-align: right;\">\n",
       "      <th></th>\n",
       "      <th>unicorns_found_randomly</th>\n",
       "      <th>incubation_costs</th>\n",
       "      <th>unicorn_returns</th>\n",
       "      <th>return_multiplier</th>\n",
       "    </tr>\n",
       "  </thead>\n",
       "  <tbody>\n",
       "    <tr>\n",
       "      <th>count</th>\n",
       "      <td>1000000.000000</td>\n",
       "      <td>1000000.0</td>\n",
       "      <td>1000000.000000</td>\n",
       "      <td>1000000.000000</td>\n",
       "    </tr>\n",
       "    <tr>\n",
       "      <th>mean</th>\n",
       "      <td>0.000268</td>\n",
       "      <td>250.0</td>\n",
       "      <td>2.680000</td>\n",
       "      <td>-0.989280</td>\n",
       "    </tr>\n",
       "    <tr>\n",
       "      <th>std</th>\n",
       "      <td>0.016369</td>\n",
       "      <td>0.0</td>\n",
       "      <td>163.685199</td>\n",
       "      <td>0.654741</td>\n",
       "    </tr>\n",
       "    <tr>\n",
       "      <th>min</th>\n",
       "      <td>0.000000</td>\n",
       "      <td>250.0</td>\n",
       "      <td>0.000000</td>\n",
       "      <td>-1.000000</td>\n",
       "    </tr>\n",
       "    <tr>\n",
       "      <th>25%</th>\n",
       "      <td>0.000000</td>\n",
       "      <td>250.0</td>\n",
       "      <td>0.000000</td>\n",
       "      <td>-1.000000</td>\n",
       "    </tr>\n",
       "    <tr>\n",
       "      <th>50%</th>\n",
       "      <td>0.000000</td>\n",
       "      <td>250.0</td>\n",
       "      <td>0.000000</td>\n",
       "      <td>-1.000000</td>\n",
       "    </tr>\n",
       "    <tr>\n",
       "      <th>75%</th>\n",
       "      <td>0.000000</td>\n",
       "      <td>250.0</td>\n",
       "      <td>0.000000</td>\n",
       "      <td>-1.000000</td>\n",
       "    </tr>\n",
       "    <tr>\n",
       "      <th>max</th>\n",
       "      <td>1.000000</td>\n",
       "      <td>250.0</td>\n",
       "      <td>10000.000000</td>\n",
       "      <td>39.000000</td>\n",
       "    </tr>\n",
       "  </tbody>\n",
       "</table>\n",
       "</div>"
      ],
      "text/plain": [
       "       unicorns_found_randomly  incubation_costs  unicorn_returns  \\\n",
       "count           1000000.000000         1000000.0   1000000.000000   \n",
       "mean                  0.000268             250.0         2.680000   \n",
       "std                   0.016369               0.0       163.685199   \n",
       "min                   0.000000             250.0         0.000000   \n",
       "25%                   0.000000             250.0         0.000000   \n",
       "50%                   0.000000             250.0         0.000000   \n",
       "75%                   0.000000             250.0         0.000000   \n",
       "max                   1.000000             250.0     10000.000000   \n",
       "\n",
       "       return_multiplier  \n",
       "count     1000000.000000  \n",
       "mean           -0.989280  \n",
       "std             0.654741  \n",
       "min            -1.000000  \n",
       "25%            -1.000000  \n",
       "50%            -1.000000  \n",
       "75%            -1.000000  \n",
       "max            39.000000  "
      ]
     },
     "execution_count": 5,
     "metadata": {},
     "output_type": "execute_result"
    }
   ],
   "source": [
    "random_df.describe()"
   ]
  },
  {
   "cell_type": "code",
   "execution_count": 6,
   "metadata": {},
   "outputs": [
    {
     "data": {
      "text/plain": [
       "<matplotlib.axes._subplots.AxesSubplot at 0x1a21123fd0>"
      ]
     },
     "execution_count": 6,
     "metadata": {},
     "output_type": "execute_result"
    },
    {
     "data": {
      "image/png": "[encoded data removed]",
      "text/plain": [
       "<Figure size 432x288 with 1 Axes>"
      ]
     },
     "metadata": {
      "needs_background": "light"
     },
     "output_type": "display_data"
    }
   ],
   "source": [
    "random_df.unicorns_found_randomly.hist(bins=[0,1,2])"
   ]
  },
  {
   "cell_type": "code",
   "execution_count": 7,
   "metadata": {},
   "outputs": [
    {
     "data": {
      "text/plain": [
       "<matplotlib.axes._subplots.AxesSubplot at 0x1a21078160>"
      ]
     },
     "execution_count": 7,
     "metadata": {},
     "output_type": "execute_result"
    },
    {
     "data": {
      "image/png": "[encoded data removed]",
      "text/plain": [
       "<Figure size 432x288 with 1 Axes>"
      ]
     },
     "metadata": {
      "needs_background": "light"
     },
     "output_type": "display_data"
    }
   ],
   "source": [
    "random_df.return_multiplier.hist()"
   ]
  },
  {
   "cell_type": "code",
   "execution_count": 8,
   "metadata": {},
   "outputs": [
    {
     "data": {
      "text/html": [
       "<div>\n",
       "<style scoped>\n",
       "    .dataframe tbody tr th:only-of-type {\n",
       "        vertical-align: middle;\n",
       "    }\n",
       "\n",
       "    .dataframe tbody tr th {\n",
       "        vertical-align: top;\n",
       "    }\n",
       "\n",
       "    .dataframe thead th {\n",
       "        text-align: right;\n",
       "    }\n",
       "</style>\n",
       "<table border=\"1\" class=\"dataframe\">\n",
       "  <thead>\n",
       "    <tr style=\"text-align: right;\">\n",
       "      <th></th>\n",
       "      <th>unicorns_found_randomly</th>\n",
       "      <th>incubation_costs</th>\n",
       "      <th>unicorn_returns</th>\n",
       "      <th>return_multiplier</th>\n",
       "    </tr>\n",
       "  </thead>\n",
       "  <tbody>\n",
       "    <tr>\n",
       "      <th>count</th>\n",
       "      <td>268.0</td>\n",
       "      <td>268.0</td>\n",
       "      <td>268.0</td>\n",
       "      <td>268.0</td>\n",
       "    </tr>\n",
       "    <tr>\n",
       "      <th>mean</th>\n",
       "      <td>1.0</td>\n",
       "      <td>250.0</td>\n",
       "      <td>10000.0</td>\n",
       "      <td>39.0</td>\n",
       "    </tr>\n",
       "    <tr>\n",
       "      <th>std</th>\n",
       "      <td>0.0</td>\n",
       "      <td>0.0</td>\n",
       "      <td>0.0</td>\n",
       "      <td>0.0</td>\n",
       "    </tr>\n",
       "    <tr>\n",
       "      <th>min</th>\n",
       "      <td>1.0</td>\n",
       "      <td>250.0</td>\n",
       "      <td>10000.0</td>\n",
       "      <td>39.0</td>\n",
       "    </tr>\n",
       "    <tr>\n",
       "      <th>25%</th>\n",
       "      <td>1.0</td>\n",
       "      <td>250.0</td>\n",
       "      <td>10000.0</td>\n",
       "      <td>39.0</td>\n",
       "    </tr>\n",
       "    <tr>\n",
       "      <th>50%</th>\n",
       "      <td>1.0</td>\n",
       "      <td>250.0</td>\n",
       "      <td>10000.0</td>\n",
       "      <td>39.0</td>\n",
       "    </tr>\n",
       "    <tr>\n",
       "      <th>75%</th>\n",
       "      <td>1.0</td>\n",
       "      <td>250.0</td>\n",
       "      <td>10000.0</td>\n",
       "      <td>39.0</td>\n",
       "    </tr>\n",
       "    <tr>\n",
       "      <th>max</th>\n",
       "      <td>1.0</td>\n",
       "      <td>250.0</td>\n",
       "      <td>10000.0</td>\n",
       "      <td>39.0</td>\n",
       "    </tr>\n",
       "  </tbody>\n",
       "</table>\n",
       "</div>"
      ],
      "text/plain": [
       "       unicorns_found_randomly  incubation_costs  unicorn_returns  \\\n",
       "count                    268.0             268.0            268.0   \n",
       "mean                       1.0             250.0          10000.0   \n",
       "std                        0.0               0.0              0.0   \n",
       "min                        1.0             250.0          10000.0   \n",
       "25%                        1.0             250.0          10000.0   \n",
       "50%                        1.0             250.0          10000.0   \n",
       "75%                        1.0             250.0          10000.0   \n",
       "max                        1.0             250.0          10000.0   \n",
       "\n",
       "       return_multiplier  \n",
       "count              268.0  \n",
       "mean                39.0  \n",
       "std                  0.0  \n",
       "min                 39.0  \n",
       "25%                 39.0  \n",
       "50%                 39.0  \n",
       "75%                 39.0  \n",
       "max                 39.0  "
      ]
     },
     "execution_count": 8,
     "metadata": {},
     "output_type": "execute_result"
    }
   ],
   "source": [
    "random_df[random_df.unicorns_found_randomly>0].describe()"
   ]
  },
  {
   "cell_type": "markdown",
   "metadata": {},
   "source": [
    "Best case scenario, sometimes one was found, yielding a success but the likelihood of this working out is on the order of 1 in 5 thousand.\n",
    "\n",
    "Thats pretty damn bleak... It's a good thing that nobody is really betting randomly."
   ]
  },
  {
   "cell_type": "markdown",
   "metadata": {},
   "source": [
    "# Step 2: Narrowing the Field"
   ]
  },
  {
   "cell_type": "markdown",
   "metadata": {},
   "source": [
    "Our fearless investment scientists all have their own ways to narrow the field. Datasets like Crunchbase, CBinsights, venture source, matterhorne, etc allow the list of potential unicorn particles to be reduced to a dramitically smaller subset. Now we examine what happens if our scientists instead randomly incubate potential unicorn particles from this subset, with a spray and pray approach, hoping the huge wins of finding a unicorn will offset the losses associated with the rarity of those particles"
   ]
  },
  {
   "cell_type": "code",
   "execution_count": 9,
   "metadata": {},
   "outputs": [],
   "source": [
    "curated_base_rate = .01"
   ]
  },
  {
   "cell_type": "code",
   "execution_count": 10,
   "metadata": {},
   "outputs": [],
   "source": [
    "N = 1000000 #experiments\n",
    "K = 25 #particles incubated\n",
    "\n",
    "#Python purists beware:\n",
    "#I'm using loops here for expository purposes\n",
    "unicorns_found_curated = np.zeros((N,))\n",
    "for n in range(N):\n",
    "    is_unicorn = np.zeros((K,)) #initialized as zero but changed to 1 based on outcome\n",
    "    for i in range(K):\n",
    "        #checkout come based on coin random outcome accordint to base rate\n",
    "        is_unicorn[i] = int(np.random.random()<curated_base_rate)\n",
    "    \n",
    "    unicorns_found_curated[n] = sum(is_unicorn)"
   ]
  },
  {
   "cell_type": "code",
   "execution_count": 11,
   "metadata": {},
   "outputs": [],
   "source": [
    "#organize the data\n",
    "curated_df = pd.DataFrame()\n",
    "curated_df['unicorns_found_curated']=unicorns_found_curated\n",
    "curated_df['incubation_costs'] = incubation_cost*K\n",
    "curated_df['unicorn_returns'] = unicorns_found_curated*unicorn_value\n",
    "curated_df['return_multiplier'] = (curated_df.unicorn_returns-curated_df.incubation_costs )/(curated_df.incubation_costs)"
   ]
  },
  {
   "cell_type": "code",
   "execution_count": 12,
   "metadata": {},
   "outputs": [
    {
     "data": {
      "text/html": [
       "<div>\n",
       "<style scoped>\n",
       "    .dataframe tbody tr th:only-of-type {\n",
       "        vertical-align: middle;\n",
       "    }\n",
       "\n",
       "    .dataframe tbody tr th {\n",
       "        vertical-align: top;\n",
       "    }\n",
       "\n",
       "    .dataframe thead th {\n",
       "        text-align: right;\n",
       "    }\n",
       "</style>\n",
       "<table border=\"1\" class=\"dataframe\">\n",
       "  <thead>\n",
       "    <tr style=\"text-align: right;\">\n",
       "      <th></th>\n",
       "      <th>unicorns_found_curated</th>\n",
       "      <th>incubation_costs</th>\n",
       "      <th>unicorn_returns</th>\n",
       "      <th>return_multiplier</th>\n",
       "    </tr>\n",
       "  </thead>\n",
       "  <tbody>\n",
       "    <tr>\n",
       "      <th>count</th>\n",
       "      <td>1000000.000000</td>\n",
       "      <td>1000000.0</td>\n",
       "      <td>1000000.000000</td>\n",
       "      <td>1000000.000000</td>\n",
       "    </tr>\n",
       "    <tr>\n",
       "      <th>mean</th>\n",
       "      <td>0.249834</td>\n",
       "      <td>250.0</td>\n",
       "      <td>2498.340000</td>\n",
       "      <td>8.993360</td>\n",
       "    </tr>\n",
       "    <tr>\n",
       "      <th>std</th>\n",
       "      <td>0.496982</td>\n",
       "      <td>0.0</td>\n",
       "      <td>4969.821118</td>\n",
       "      <td>19.879284</td>\n",
       "    </tr>\n",
       "    <tr>\n",
       "      <th>min</th>\n",
       "      <td>0.000000</td>\n",
       "      <td>250.0</td>\n",
       "      <td>0.000000</td>\n",
       "      <td>-1.000000</td>\n",
       "    </tr>\n",
       "    <tr>\n",
       "      <th>25%</th>\n",
       "      <td>0.000000</td>\n",
       "      <td>250.0</td>\n",
       "      <td>0.000000</td>\n",
       "      <td>-1.000000</td>\n",
       "    </tr>\n",
       "    <tr>\n",
       "      <th>50%</th>\n",
       "      <td>0.000000</td>\n",
       "      <td>250.0</td>\n",
       "      <td>0.000000</td>\n",
       "      <td>-1.000000</td>\n",
       "    </tr>\n",
       "    <tr>\n",
       "      <th>75%</th>\n",
       "      <td>0.000000</td>\n",
       "      <td>250.0</td>\n",
       "      <td>0.000000</td>\n",
       "      <td>-1.000000</td>\n",
       "    </tr>\n",
       "    <tr>\n",
       "      <th>max</th>\n",
       "      <td>5.000000</td>\n",
       "      <td>250.0</td>\n",
       "      <td>50000.000000</td>\n",
       "      <td>199.000000</td>\n",
       "    </tr>\n",
       "  </tbody>\n",
       "</table>\n",
       "</div>"
      ],
      "text/plain": [
       "       unicorns_found_curated  incubation_costs  unicorn_returns  \\\n",
       "count          1000000.000000         1000000.0   1000000.000000   \n",
       "mean                 0.249834             250.0      2498.340000   \n",
       "std                  0.496982               0.0      4969.821118   \n",
       "min                  0.000000             250.0         0.000000   \n",
       "25%                  0.000000             250.0         0.000000   \n",
       "50%                  0.000000             250.0         0.000000   \n",
       "75%                  0.000000             250.0         0.000000   \n",
       "max                  5.000000             250.0     50000.000000   \n",
       "\n",
       "       return_multiplier  \n",
       "count     1000000.000000  \n",
       "mean            8.993360  \n",
       "std            19.879284  \n",
       "min            -1.000000  \n",
       "25%            -1.000000  \n",
       "50%            -1.000000  \n",
       "75%            -1.000000  \n",
       "max           199.000000  "
      ]
     },
     "execution_count": 12,
     "metadata": {},
     "output_type": "execute_result"
    }
   ],
   "source": [
    "curated_df.describe()"
   ]
  },
  {
   "cell_type": "code",
   "execution_count": 13,
   "metadata": {},
   "outputs": [
    {
     "data": {
      "text/plain": [
       "<matplotlib.axes._subplots.AxesSubplot at 0x1a1db765c0>"
      ]
     },
     "execution_count": 13,
     "metadata": {},
     "output_type": "execute_result"
    },
    {
     "data": {
      "image/png": "[encoded data removed]",
      "text/plain": [
       "<Figure size 432x288 with 1 Axes>"
      ]
     },
     "metadata": {
      "needs_background": "light"
     },
     "output_type": "display_data"
    }
   ],
   "source": [
    "curated_df.unicorns_found_curated.hist(bins=range(6))"
   ]
  },
  {
   "cell_type": "code",
   "execution_count": 14,
   "metadata": {},
   "outputs": [
    {
     "data": {
      "text/plain": [
       "<matplotlib.axes._subplots.AxesSubplot at 0x1a22e6c6a0>"
      ]
     },
     "execution_count": 14,
     "metadata": {},
     "output_type": "execute_result"
    },
    {
     "data": {
      "image/png": "[encoded data removed]",
      "text/plain": [
       "<Figure size 432x288 with 1 Axes>"
      ]
     },
     "metadata": {
      "needs_background": "light"
     },
     "output_type": "display_data"
    }
   ],
   "source": [
    "curated_df.return_multiplier.hist()"
   ]
  },
  {
   "cell_type": "markdown",
   "metadata": {},
   "source": [
    "Now we are starting to get somewhere. By curating down to a set of particles with higher base rates the startegy of spreading the love is starting to pan out. \n",
    "\n",
    "However, we're still very beholden luck at this point because for all the real potential upside, we still are left with abject failure 80% of the time. Fair from the repeatable outcomes required to declare scientific discovery"
   ]
  },
  {
   "cell_type": "markdown",
   "metadata": {},
   "source": [
    "# Step 3: The investment Scientist's Laboratory Equipment"
   ]
  },
  {
   "cell_type": "markdown",
   "metadata": {},
   "source": [
    "The author of this article is the chief scientist at 50X ventures so we'll quickly outline the instruments in our lab\n",
    "\n",
    "1. The HighEV Model -- special microscope for examining particles for evidence of the innate massive value creation that defines them. An adept investment scientist uses the HighEV to look for ways this partical might unleash value on the world that may not be evident to the naked eye. \n",
    "\n",
    "2. The Team Screen -- high powered atomic scale that measures fundamental elements making up particle. This special scale allows our scientists to measure the latent potential in the particle but also can sense the balance of those forces to determine whether it will be harnessed productively\n",
    "\n",
    "3. The Exponential Screen -- partical collision simulator, builds a model of our particle interacting with other particles and interacting with the incubator environment to come up with a projection of how those interactions might enable the particle to unleash its latent value. This instrument also helps us configure our incubator for the particle when we decide to commit to it.\n",
    "\n",
    "4. The 2sided-ROI estimator -- traditional finacial economics computed fromt the bottom up using market size to create revenue estimates, top down approach based on comparable exits are compared against realistic cost basis assessments to project ROI should the bet pay off. (It's important in practice but i couldn't quite force it into the physics analogy)"
   ]
  },
  {
   "cell_type": "markdown",
   "metadata": {},
   "source": [
    "Now we acknowledge that every investment science team searching for unicorn particles has their own lab equipment. Our team of scientists has worked long and hard to forge our laboratory equipment and we believe we have some of the best. Many others have versions of these apparatus. At 50X we believe seeking unicorn particles, like science should be a collaborative effort and we aim to learn from and share with other investment scientists.\n",
    "\n",
    "As we continue, we will examine what happens when high quality instruments and scientific process is used to make investment science breakthroughs. We will suppose that the scientific process allows our scientists to make predictions within the curated pool that are right 10% of the time.\n",
    "\n",
    "That sounds awful... how is this better?\n",
    "\n",
    "It turns out that getting 1 in 10 right doesn't sound great, in an absolute sense. It is a phenomenal lift relative to the base rates."
   ]
  },
  {
   "cell_type": "code",
   "execution_count": 16,
   "metadata": {},
   "outputs": [
    {
     "name": "stdout",
     "output_type": "stream",
     "text": [
      "Lift of Science Rate against base rate is 10000.0 times better\n",
      "Lift of Science Rate against curated rate is 10.0 times better\n"
     ]
    }
   ],
   "source": [
    "science_rate = .1\n",
    "lift_to_base = science_rate/base_rate\n",
    "lift_to_curated = science_rate/curated_base_rate\n",
    "\n",
    "print(\"Lift of Science Rate against base rate is \"+str(science_rate/base_rate)+\" times better\")\n",
    "print(\"Lift of Science Rate against curated rate is \"+str(science_rate/curated_base_rate)+\" times better\")"
   ]
  },
  {
   "cell_type": "code",
   "execution_count": 17,
   "metadata": {},
   "outputs": [],
   "source": [
    "N = 1000000 #experiments\n",
    "K = 25 #particles incubated\n",
    "\n",
    "#Python purists beware:\n",
    "#I'm using loops here for expository purposes\n",
    "unicorns_found_science = np.zeros((N,))\n",
    "for n in range(N):\n",
    "    is_unicorn = np.zeros((K,)) #initialized as zero but changed to 1 based on outcome\n",
    "    for i in range(K):\n",
    "        #checkout come based on coin random outcome accordint to base rate\n",
    "        is_unicorn[i] = int(np.random.random()<science_rate)\n",
    "    \n",
    "    unicorns_found_science[n] = sum(is_unicorn)"
   ]
  },
  {
   "cell_type": "code",
   "execution_count": 18,
   "metadata": {},
   "outputs": [],
   "source": [
    "#organize the data\n",
    "science_df = pd.DataFrame()\n",
    "science_df['unicorns_found_science']=unicorns_found_science\n",
    "science_df['incubation_costs'] = incubation_cost*K\n",
    "science_df['unicorn_returns'] = unicorns_found_science*unicorn_value\n",
    "science_df['return_multiplier'] = (science_df.unicorn_returns-science_df.incubation_costs )/(science_df.incubation_costs)"
   ]
  },
  {
   "cell_type": "code",
   "execution_count": 19,
   "metadata": {},
   "outputs": [
    {
     "data": {
      "text/html": [
       "<div>\n",
       "<style scoped>\n",
       "    .dataframe tbody tr th:only-of-type {\n",
       "        vertical-align: middle;\n",
       "    }\n",
       "\n",
       "    .dataframe tbody tr th {\n",
       "        vertical-align: top;\n",
       "    }\n",
       "\n",
       "    .dataframe thead th {\n",
       "        text-align: right;\n",
       "    }\n",
       "</style>\n",
       "<table border=\"1\" class=\"dataframe\">\n",
       "  <thead>\n",
       "    <tr style=\"text-align: right;\">\n",
       "      <th></th>\n",
       "      <th>unicorns_found_science</th>\n",
       "      <th>incubation_costs</th>\n",
       "      <th>unicorn_returns</th>\n",
       "      <th>return_multiplier</th>\n",
       "    </tr>\n",
       "  </thead>\n",
       "  <tbody>\n",
       "    <tr>\n",
       "      <th>count</th>\n",
       "      <td>1000000.000000</td>\n",
       "      <td>1000000.0</td>\n",
       "      <td>1000000.000000</td>\n",
       "      <td>1000000.000000</td>\n",
       "    </tr>\n",
       "    <tr>\n",
       "      <th>mean</th>\n",
       "      <td>2.502480</td>\n",
       "      <td>250.0</td>\n",
       "      <td>25024.800000</td>\n",
       "      <td>99.099200</td>\n",
       "    </tr>\n",
       "    <tr>\n",
       "      <th>std</th>\n",
       "      <td>1.500066</td>\n",
       "      <td>0.0</td>\n",
       "      <td>15000.660318</td>\n",
       "      <td>60.002641</td>\n",
       "    </tr>\n",
       "    <tr>\n",
       "      <th>min</th>\n",
       "      <td>0.000000</td>\n",
       "      <td>250.0</td>\n",
       "      <td>0.000000</td>\n",
       "      <td>-1.000000</td>\n",
       "    </tr>\n",
       "    <tr>\n",
       "      <th>25%</th>\n",
       "      <td>1.000000</td>\n",
       "      <td>250.0</td>\n",
       "      <td>10000.000000</td>\n",
       "      <td>39.000000</td>\n",
       "    </tr>\n",
       "    <tr>\n",
       "      <th>50%</th>\n",
       "      <td>2.000000</td>\n",
       "      <td>250.0</td>\n",
       "      <td>20000.000000</td>\n",
       "      <td>79.000000</td>\n",
       "    </tr>\n",
       "    <tr>\n",
       "      <th>75%</th>\n",
       "      <td>3.000000</td>\n",
       "      <td>250.0</td>\n",
       "      <td>30000.000000</td>\n",
       "      <td>119.000000</td>\n",
       "    </tr>\n",
       "    <tr>\n",
       "      <th>max</th>\n",
       "      <td>13.000000</td>\n",
       "      <td>250.0</td>\n",
       "      <td>130000.000000</td>\n",
       "      <td>519.000000</td>\n",
       "    </tr>\n",
       "  </tbody>\n",
       "</table>\n",
       "</div>"
      ],
      "text/plain": [
       "       unicorns_found_science  incubation_costs  unicorn_returns  \\\n",
       "count          1000000.000000         1000000.0   1000000.000000   \n",
       "mean                 2.502480             250.0     25024.800000   \n",
       "std                  1.500066               0.0     15000.660318   \n",
       "min                  0.000000             250.0         0.000000   \n",
       "25%                  1.000000             250.0     10000.000000   \n",
       "50%                  2.000000             250.0     20000.000000   \n",
       "75%                  3.000000             250.0     30000.000000   \n",
       "max                 13.000000             250.0    130000.000000   \n",
       "\n",
       "       return_multiplier  \n",
       "count     1000000.000000  \n",
       "mean           99.099200  \n",
       "std            60.002641  \n",
       "min            -1.000000  \n",
       "25%            39.000000  \n",
       "50%            79.000000  \n",
       "75%           119.000000  \n",
       "max           519.000000  "
      ]
     },
     "execution_count": 19,
     "metadata": {},
     "output_type": "execute_result"
    }
   ],
   "source": [
    "science_df.describe()"
   ]
  },
  {
   "cell_type": "code",
   "execution_count": 20,
   "metadata": {},
   "outputs": [
    {
     "data": {
      "text/plain": [
       "<matplotlib.axes._subplots.AxesSubplot at 0x1a22da8080>"
      ]
     },
     "execution_count": 20,
     "metadata": {},
     "output_type": "execute_result"
    },
    {
     "data": {
      "image/png": "[encoded data removed]",
      "text/plain": [
       "<Figure size 432x288 with 1 Axes>"
      ]
     },
     "metadata": {
      "needs_background": "light"
     },
     "output_type": "display_data"
    }
   ],
   "source": [
    "science_df.unicorns_found_science.hist(bins=range(-1,12,1))"
   ]
  },
  {
   "cell_type": "markdown",
   "metadata": {},
   "source": [
    "Something really important just happened: we passed a tipping point in the underlying rate of success that makes abject failure fall dramatically. This is an important quality in detecting high value rare events... the goal isn't to be right all the time, the ability to get enough lift against the base probabilities that your now right often enough that playing the game as often as you can.. in this case 25 times, you regularly win and those winnings are valuable enough to offset the losses.\n",
    "\n",
    "This value creation is a right tailed process, meaning the best investment scientists who find more unicorn particles themselves find massively more value and profit from bringing that value to the world"
   ]
  },
  {
   "cell_type": "code",
   "execution_count": 21,
   "metadata": {},
   "outputs": [
    {
     "data": {
      "text/plain": [
       "<matplotlib.axes._subplots.AxesSubplot at 0x1a25e4d048>"
      ]
     },
     "execution_count": 21,
     "metadata": {},
     "output_type": "execute_result"
    },
    {
     "data": {
      "image/png": "[encoded data removed]",
      "text/plain": [
       "<Figure size 432x288 with 1 Axes>"
      ]
     },
     "metadata": {
      "needs_background": "light"
     },
     "output_type": "display_data"
    }
   ],
   "source": [
    "science_df.return_multiplier.hist(bins=range(-20,400,20))"
   ]
  },
  {
   "cell_type": "markdown",
   "metadata": {},
   "source": [
    "Now thats a lot better right? We can get behind a business model where scientific principles are applied to systematically create lift in our estimates for the rare 'unicorn particle'. Our investment scientists are tireless building better curators to improve the quality of our search pool, studying the research of other investment scientist to build newer better instruments and applying running experiments using those instruments to determine which particles to incubate. \n",
    "\n",
    "All of this to unleash massive value into the world!"
   ]
  },
  {
   "cell_type": "code",
   "execution_count": null,
   "metadata": {},
   "outputs": [],
   "source": []
  },
  {
   "cell_type": "code",
   "execution_count": null,
   "metadata": {},
   "outputs": [],
   "source": []
  }
 ],
 "metadata": {
  "kernelspec": {
   "display_name": "Python 3",
   "language": "python",
   "name": "python3"
  },
  "language_info": {
   "codemirror_mode": {
    "name": "ipython",
    "version": 3
   },
   "file_extension": ".py",
   "mimetype": "text/x-python",
   "name": "python",
   "nbconvert_exporter": "python",
   "pygments_lexer": "ipython3",
   "version": "3.6.8"
  }
 },
 "nbformat": 4,
 "nbformat_minor": 2
}
